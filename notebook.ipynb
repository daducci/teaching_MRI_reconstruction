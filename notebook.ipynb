{
 "cells": [
  {
   "cell_type": "markdown",
   "metadata": {},
   "source": [
    "<div class=\"alert alert-block alert-success\">\n",
    "<b>Acknowledgements:</b> This hands-on session is based on a notebook from <a href=\"https://www.drcmr.dk/marcop\">Dr Marco Pizzolato</a> of the Danish Reseaerch Center for Magnetic Resonance (Denmark).\n",
    "</div>\n",
    "\n",
    "# Magnetic resonance imaging and Fourier Transform\n",
    "\n",
    "The raw data, i.e. the *k-space* that was acquired by the MRI scanner, is contained in the file `oneslice.nii`.\n",
    "\n",
    "**NB:** For simplicity, in this exercise we'll work with data consisting only of a **single slice**, but all the results may be extended to any dimension."
   ]
  },
  {
   "cell_type": "markdown",
   "metadata": {},
   "source": [
    "## Setup the experiments\n",
    "\n",
    "Let's first install some *useful libraries* from `https://pypi.org` using `pip`:"
   ]
  },
  {
   "cell_type": "code",
   "execution_count": null,
   "metadata": {},
   "outputs": [],
   "source": [
    "%pip install numpy\n",
    "%pip install matplotlib\n",
    "%pip install nibabel"
   ]
  },
  {
   "cell_type": "markdown",
   "metadata": {},
   "source": [
    "Then, let's define some *useful variables and functions*:"
   ]
  },
  {
   "cell_type": "code",
   "execution_count": null,
   "metadata": {},
   "outputs": [],
   "source": [
    "import numpy as np\n",
    "import matplotlib.pyplot as plt\n",
    "import matplotlib.patches as patches\n",
    "import nibabel\n",
    "%matplotlib inline\n",
    "\n",
    "# define some useful variables\n",
    "FONT_SIZE         = 20\n",
    "FIG_SIZE          = [18,9]\n",
    "ARROW_HEAD_LENGTH = 5.\n",
    "ARROW_HEAD_WIDTH  = 3.\n",
    "\n",
    "def calculate_sinusoid( dimension, wx, wy, fx, fy, phix=0.0, phiy=0.0 ):\n",
    "    '''Returns a 2D image (of size \"dimension\") with a sinusoidal phase between -pi and +pi.\n",
    "\n",
    "    dimension: tuple specifying size (size x,size y)\n",
    "    wx       : x period length\n",
    "    wy       : y period length\n",
    "    fx       : x frequency\n",
    "    phix     : x initial phase\n",
    "    fy       : y frequency\n",
    "    phiy     : y initial phase\n",
    "    '''\n",
    "    if len(dimension) != 2:\n",
    "        raise ValueError('dimension must be a tuple of length 2')\n",
    "\n",
    "    sin_xy = np.zeros(dimension)\n",
    "    for y in range(sin_xy.shape[0]):\n",
    "        for x in range(sin_xy.shape[1]):\n",
    "            sin_xy[x,y] = np.pi * np.sin(2*np.pi*fx*x/wx+phix+2*np.pi*fy*y/wy+phiy)\n",
    "    return sin_xy\n",
    "\n",
    "def plot_arrows( Cx, Cy, Nx, Ny, color='r' ):\n",
    "    '''Display the x and y axes of the image as arrows'''\n",
    "    plt.arrow( Cx, 0, 0, Ny-1, length_includes_head=True, head_width=ARROW_HEAD_WIDTH, head_length=ARROW_HEAD_LENGTH, fc=color, ec=color, lw=2, ls='-', alpha=1.0 );\n",
    "    plt.arrow( 0, Cy, Nx-1, 0, length_includes_head=True, head_width=ARROW_HEAD_WIDTH, head_length=ARROW_HEAD_LENGTH, fc=color, ec=color, lw=2, ls='-', alpha=1.0 );"
   ]
  },
  {
   "cell_type": "markdown",
   "metadata": {},
   "source": [
    "## Open the raw data\n",
    "\n",
    "Let's **open the raw data** and print some information about it:"
   ]
  },
  {
   "cell_type": "code",
   "execution_count": null,
   "metadata": {},
   "outputs": [],
   "source": [
    "# open the file \"openslice.nii\"\n",
    "nii_oneslice = nibabel.load( 'oneslice.nii' )\n",
    "kspace = np.asarray( nii_oneslice.dataobj )\n",
    "\n",
    "# size of k-space\n",
    "Nx = kspace.shape[0]\n",
    "Ny = kspace.shape[1]\n",
    "\n",
    "# center of k-space\n",
    "Cx = Nx/2.0\n",
    "Cy = Ny/2.0\n",
    "\n",
    "print( f'dimension      = {Nx}x{Ny}' )\n",
    "print( f'datatype       = {kspace.dtype}' )\n",
    "print( f'k-space center = [{Cx:.1f}, {Cy:.1f}]' )"
   ]
  },
  {
   "cell_type": "markdown",
   "metadata": {},
   "source": [
    "The acquisition Field Of View (FOV) was 220 *mm* (not stored in the header), so the **spatial resolution** (size of each pixel) is:"
   ]
  },
  {
   "cell_type": "code",
   "execution_count": null,
   "metadata": {},
   "outputs": [],
   "source": [
    "# resolution = FOV / # voxels\n",
    "resolution = 220.0 / Nx\n",
    "print( f'The spatial resolution is {resolution:.2f} mm' )\n",
    "\n",
    "# frequency = 1/resolution\n",
    "K_max = 1. / resolution\n",
    "print( f'which corresponds to a maximum frequency of {K_max:.2f} mm^-1' )"
   ]
  },
  {
   "cell_type": "markdown",
   "metadata": {},
   "source": [
    "## Visualize the k-space\n",
    "\n",
    "Remember that the k-space is a **complex image**, so we cannot visualize it \"as is\", but we have to plot separately its *real* and *imaginary* parts:"
   ]
  },
  {
   "cell_type": "code",
   "execution_count": null,
   "metadata": {},
   "outputs": [],
   "source": [
    "plt.figure( figsize=FIG_SIZE )\n",
    "plt.subplots_adjust( wspace=0.4 )\n",
    "\n",
    "# real part\n",
    "plt.subplot( 121 )\n",
    "max_val = np.abs(kspace.real).max()\n",
    "plt.imshow(\n",
    "    kspace.real, origin='lower',\n",
    "    cmap='seismic', clim=[-max_val, max_val]\n",
    ")\n",
    "plt.colorbar( shrink=0.65 )\n",
    "plt.tick_params(\n",
    "    reset=True, axis='both', which='both',\n",
    "    left=False, right=False, bottom=False, top=False,\n",
    "    labelbottom=False, labelleft=False\n",
    ")\n",
    "plot_arrows( Cx,Cy,Nx,Ny,'r' )\n",
    "plt.xlabel( '$K_x$', fontsize=FONT_SIZE )\n",
    "plt.ylabel( '$K_y$', fontsize=FONT_SIZE )\n",
    "plt.title( 'real part', fontsize=FONT_SIZE )\n",
    "\n",
    "# imaginary part\n",
    "plt.subplot( 122 )\n",
    "max_val = np.abs(kspace.imag).max()\n",
    "plt.imshow(\n",
    "    kspace.imag, origin='lower',\n",
    "    cmap='seismic', clim=[-max_val, max_val]\n",
    ")\n",
    "plt.colorbar( shrink=0.65 )\n",
    "plt.tick_params(\n",
    "    reset=True, axis='both', which='both',\n",
    "    left=False, right=False, bottom=False, top=False,\n",
    "    labelbottom=False, labelleft=False\n",
    ")\n",
    "plot_arrows( Cx,Cy,Nx,Ny,'r' )\n",
    "plt.xlabel ('$K_x$', fontsize=FONT_SIZE )\n",
    "plt.ylabel ('$K_y$', fontsize=FONT_SIZE )\n",
    "plt.title( 'imaginary part', fontsize=FONT_SIZE );"
   ]
  },
  {
   "cell_type": "markdown",
   "metadata": {},
   "source": [
    "## Visualization as \"magnitude\" and \"phase\"\n",
    "\n",
    "The k-space is a complex image K:\n",
    "\n",
    "\\begin{equation}\n",
    "K(x,y) = \\Re[{K(x,y)}] + i\\cdot \\Im[{K(x,y)}]\n",
    "\\end{equation}\n",
    "\n",
    "It's **magnitude** is:\n",
    "\n",
    "\\begin{equation}\n",
    "|K(x,y)| = \\sqrt{\\Re[{K(x,y)}]^2 +  \\Im[{K(x,y)}]^2}\n",
    "\\end{equation}\n",
    "\n",
    "and it's **phase** is:\n",
    "\n",
    "\\begin{equation}\n",
    "\\Phi(x,y) = arctan  \\left( \\frac{\\Im[K(x,y)]}{\\Re[K(x,y)]} \\right)\n",
    "\\end{equation}\n",
    "\n",
    "So, let's **plot separately** the *magnitude* and *phase* of the k-space:"
   ]
  },
  {
   "cell_type": "code",
   "execution_count": null,
   "metadata": {
    "tags": []
   },
   "outputs": [],
   "source": [
    "plt.figure( figsize=FIG_SIZE )\n",
    "plt.subplots_adjust( wspace=0.4 )\n",
    "\n",
    "# magnitude image\n",
    "plt.subplot( 121 )\n",
    "max_val = np.abs(kspace).max() / 10.0 # this division is to improve the contrast\n",
    "plt.imshow(\n",
    "    np.abs(kspace), origin='lower',\n",
    "    cmap='viridis', clim=[0,max_val]\n",
    ")\n",
    "plt.colorbar( shrink=0.65 )\n",
    "plt.tick_params(\n",
    "    reset=True, axis='both', which='both',\n",
    "    left=False, right=False, bottom=False, top=False,\n",
    "    labelbottom=False, labelleft=False\n",
    ")\n",
    "plot_arrows( Cx,Cy,Nx,Ny,'r')\n",
    "plt.xlabel( '$K_x$', fontsize=FONT_SIZE )\n",
    "plt.ylabel( '$K_y$', fontsize=FONT_SIZE )\n",
    "plt.title( 'magnitude', fontsize=FONT_SIZE )\n",
    "\n",
    "# phase image\n",
    "plt.subplot( 122 )\n",
    "plt.imshow(\n",
    "    np.angle(kspace), origin='lower',\n",
    "    cmap='seismic', clim=[-np.pi,np.pi]\n",
    ")\n",
    "plt.colorbar( shrink=0.65 )\n",
    "plt.tick_params(\n",
    "    reset=True, axis='both', which='both',\n",
    "    left=False, right=False, bottom=False, top=False,\n",
    "    labelbottom=False, labelleft=False\n",
    ")\n",
    "plot_arrows( Cx,Cy,Nx,Ny,'k' )\n",
    "plt.xlabel( '$K_x$', fontsize=FONT_SIZE )\n",
    "plt.ylabel( '$K_y$', fontsize=FONT_SIZE )\n",
    "plt.title(  'phase', fontsize=FONT_SIZE );"
   ]
  },
  {
   "cell_type": "markdown",
   "metadata": {},
   "source": [
    "# Reconstruct the image in *spatial coordinates*\n",
    "\n",
    "To visualize the actual brain image in **spatial coordinates**, we need to apply the 2D Fourier transform to the raw data and to pass into the so-called \"image space\".\n",
    "\n",
    "## Change the convention for the Fast Fourier Transform (FFT)\n",
    "\n",
    "To achieve this in Python, we first need to *shift the zero frequency to the corners of the image* using the function [`np.fft.fftshift`](https://numpy.org/doc/stable/reference/generated/numpy.fft.fftshift.html); this step is required because of the actual implementation of the Fast Fourier Transform:"
   ]
  },
  {
   "cell_type": "code",
   "execution_count": null,
   "metadata": {},
   "outputs": [],
   "source": [
    "kspace_shifted = np.fft.fftshift( kspace )\n",
    "\n",
    "# visualize the shifted k-space\n",
    "plt.figure( figsize=FIG_SIZE )\n",
    "plt.imshow(\n",
    "    np.abs(kspace_shifted), origin='lower',\n",
    "    cmap='viridis', clim=[0,max_val]\n",
    ")\n",
    "plt.colorbar( shrink=0.75 )\n",
    "plt.tick_params(\n",
    "    reset=True, axis='both', which='both',\n",
    "    left=False, right=False, bottom=False, top=False,\n",
    "    labelbottom=False, labelleft=False\n",
    ")\n",
    "plot_arrows( 0,0,Nx,Ny,'r' )\n",
    "plt.title( 'magnitude (shifted)', fontsize=FONT_SIZE );"
   ]
  },
  {
   "cell_type": "markdown",
   "metadata": {},
   "source": [
    "Now, we can apply the 2D Fourier Transform to the shifted k-space to obtain the image in *spatial coordinates*:"
   ]
  },
  {
   "cell_type": "code",
   "execution_count": null,
   "metadata": {},
   "outputs": [],
   "source": [
    "img = np.fft.fft2( kspace_shifted / np.sqrt(Nx*Ny), norm='ortho' )"
   ]
  },
  {
   "cell_type": "markdown",
   "metadata": {},
   "source": [
    "NB: note that we had to *scale the values* by the square root of the number of samples, again because of implementation choices of the Fast Fourier Transform of `numpy`."
   ]
  },
  {
   "cell_type": "markdown",
   "metadata": {},
   "source": [
    "## Visualize the reconstructed image as *real* and *imaginary* parts\n",
    "\n",
    "Remember, it is again a complex image:"
   ]
  },
  {
   "cell_type": "code",
   "execution_count": null,
   "metadata": {},
   "outputs": [],
   "source": [
    "plt.figure( figsize=FIG_SIZE )\n",
    "plt.subplots_adjust( wspace=0.4 )\n",
    "\n",
    "# real part\n",
    "plt.subplot( 121 )\n",
    "max_val = np.abs(img.real).max()\n",
    "plt.imshow(\n",
    "    img.real, origin='lower',\n",
    "    cmap='seismic', clim=[-max_val,max_val]\n",
    ")\n",
    "plt.colorbar( shrink=0.65 )\n",
    "plt.tick_params(\n",
    "    reset=True, axis='both', which='both',\n",
    "    left=False, right=False, bottom=False, top=False,\n",
    "    labelbottom=False, labelleft=False\n",
    ")\n",
    "plot_arrows( Cx,Cy,Nx,Ny,'k' )\n",
    "plt.xlabel( 'x pixels', fontsize=FONT_SIZE )\n",
    "plt.ylabel( 'y pixels', fontsize=FONT_SIZE )\n",
    "plt.title( 'Reconstructed image (real)', fontsize=FONT_SIZE )\n",
    "\n",
    "# imaginary part\n",
    "plt.subplot( 122 )\n",
    "max_val = np.abs(img.imag).max()\n",
    "plt.imshow(\n",
    "    img.imag, origin='lower',\n",
    "    cmap='seismic', clim=[-max_val,max_val]\n",
    ")\n",
    "plt.colorbar( shrink=0.65 )\n",
    "plt.tick_params(\n",
    "    reset=True, axis='both', which='both',\n",
    "    left=False, right=False, bottom=False, top=False,\n",
    "    labelbottom=False, labelleft=False\n",
    ")\n",
    "plot_arrows( Cx,Cy,Nx,Ny,'k' )\n",
    "plt.xlabel( 'x pixels', fontsize=FONT_SIZE )\n",
    "plt.ylabel( 'y pixels', fontsize=FONT_SIZE );\n",
    "plt.title(  'Reconstructed image (imaginary)', fontsize=FONT_SIZE );"
   ]
  },
  {
   "cell_type": "markdown",
   "metadata": {},
   "source": [
    "## Visualization as *magnitude* and *phase*"
   ]
  },
  {
   "cell_type": "code",
   "execution_count": null,
   "metadata": {},
   "outputs": [],
   "source": [
    "plt.figure( figsize=FIG_SIZE )\n",
    "plt.subplots_adjust( wspace=0.4 )\n",
    "\n",
    "# magnitude\n",
    "plt.subplot( 121 )\n",
    "max_val = np.abs(img).max() / 3.0 # this division is to improve contrast\n",
    "plt.imshow(\n",
    "    np.abs(img), origin='lower',\n",
    "    cmap='gray', clim=[0,max_val]\n",
    ")\n",
    "plt.colorbar( shrink=0.65 )\n",
    "plt.tick_params(\n",
    "    reset=True, axis='both', which='both',\n",
    "    left=False, right=False, bottom=False, top=False,\n",
    "    labelbottom=False, labelleft=False\n",
    ")\n",
    "plot_arrows( Cx,Cy,Nx,Ny,'r' )\n",
    "plt.title( 'Reconstructed image (magnitude)', fontsize=FONT_SIZE )\n",
    "plt.xlabel( 'x pixels', fontsize=FONT_SIZE )\n",
    "plt.ylabel( 'y pixels', fontsize=FONT_SIZE )\n",
    "\n",
    "# phase\n",
    "plt.subplot( 122 )\n",
    "plt.imshow(\n",
    "    np.angle(img), origin='lower',\n",
    "    cmap='seismic', clim=[-np.pi,np.pi]\n",
    ")\n",
    "plt.colorbar( shrink=0.65 )\n",
    "plt.tick_params(\n",
    "    reset=True, axis='both', which='both',\n",
    "    left=False, right=False, bottom=False, top=False,\n",
    "    labelbottom=False, labelleft=False\n",
    ")\n",
    "plot_arrows( Cx,Cy,Nx,Ny,'k' )\n",
    "plt.title( 'Reconstructed image (phase)', fontsize=FONT_SIZE )\n",
    "plt.xlabel( 'x pixels', fontsize=FONT_SIZE )\n",
    "plt.ylabel( 'y pixels', fontsize=FONT_SIZE );"
   ]
  },
  {
   "cell_type": "markdown",
   "metadata": {},
   "source": [
    "The *pixel intensity* in the magnitude image is the magnitude of the magnetization vector for that location."
   ]
  },
  {
   "cell_type": "markdown",
   "metadata": {
    "tags": []
   },
   "source": [
    "# Inspect and reconstruct from a portion of the k-space\n",
    "\n",
    "We will now select a rectangular **portion of the k-space** corresponding to a given range of frequencies:"
   ]
  },
  {
   "cell_type": "code",
   "execution_count": null,
   "metadata": {},
   "outputs": [],
   "source": [
    "# Offset of the the selected rectangle (w.r.t. the center of k-space)\n",
    "OFFSETx = 0\n",
    "OFFSETy = 0\n",
    "\n",
    "# Side of the selected rectangle\n",
    "Kx_half_side = 3\n",
    "Ky_half_side = 3\n",
    "\n",
    "# The corresponding pixels coordinates are\n",
    "x_start = int(Cx) + OFFSETx - Kx_half_side\n",
    "x_stop  = int(Cx) + OFFSETx + Kx_half_side\n",
    "y_start = int(Cy) + OFFSETy - Ky_half_side\n",
    "y_stop  = int(Cy) + OFFSETy + Ky_half_side\n",
    "print( f'Selected portion of k-space data (w.r.t. center) = [{x_start-int(Cx)},{x_stop-int(Cx)},{y_start-int(Cy)},{y_stop-int(Cy)}]' )\n",
    "\n",
    "kspace_mod = kspace[y_start:y_stop+1,x_start:x_stop+1]\n",
    "\n",
    "# Mask to define the selected frequencies\n",
    "frequency_mask = np.zeros( (Nx,Ny), dtype=bool )\n",
    "frequency_mask[y_start:y_stop+1,x_start:x_stop+1] = True"
   ]
  },
  {
   "cell_type": "markdown",
   "metadata": {},
   "source": [
    "## Visualize the selected portion"
   ]
  },
  {
   "cell_type": "code",
   "execution_count": null,
   "metadata": {},
   "outputs": [],
   "source": [
    "fig = plt.figure( figsize=FIG_SIZE )\n",
    "max_val = np.abs(kspace).max() / 5.0 # this division is to improve the contrast\n",
    "plt.imshow(\n",
    "    np.abs(kspace), origin='lower',\n",
    "    cmap='viridis', clim=[0,max_val]\n",
    ")\n",
    "plt.colorbar( shrink=0.75 )\n",
    "\n",
    "# box\n",
    "rect = patches.Rectangle(\n",
    "    [x_start-0.5, y_start-0.5],\n",
    "    2*Kx_half_side+1, 2*Ky_half_side+1,\n",
    "    linewidth=2, edgecolor='w', facecolor='none', zorder=200\n",
    ")\n",
    "plt.gca().add_patch( rect )\n",
    "\n",
    "plt.tick_params(\n",
    "    reset=True, axis='both', which='both',\n",
    "    left=False, right=False, bottom=False, top=False,\n",
    "    labelbottom=False, labelleft=False\n",
    ")\n",
    "plot_arrows( Cx,Cy,Nx,Ny,'r' )\n",
    "plt.xlabel( '$K_x$', fontsize=FONT_SIZE )\n",
    "plt.ylabel( '$K_y$', fontsize=FONT_SIZE )\n",
    "plt.title(  'Selected area of the k-space', fontsize=FONT_SIZE );"
   ]
  },
  {
   "cell_type": "markdown",
   "metadata": {
    "tags": []
   },
   "source": [
    "## Plot the sinusoids corresponding to the selected area of the k-space\n",
    "\n",
    "Display the **2D sinusoids** corresponding to the low-frequency portion we just selected with the `frequency_mask` mask (maximum 40 for sake of space):"
   ]
  },
  {
   "cell_type": "code",
   "execution_count": null,
   "metadata": {},
   "outputs": [],
   "source": [
    "plt.figure( figsize=FIG_SIZE )\n",
    "image_number = 0\n",
    "for iy in range(Ny)[::-1]:  # display in reverse order to match previous plot\n",
    "    for ix in range(Nx):\n",
    "        if frequency_mask[iy,ix] == True:\n",
    "            image_number += 1\n",
    "            if image_number>40:\n",
    "                break\n",
    "\n",
    "            K_x = K_max/2. * (ix-Cx)/Cx\n",
    "            K_y = K_max/2. * (iy-Cy)/Cy\n",
    "            sin2D = calculate_sinusoid( (Ny,Nx), K_max,K_max, K_y,K_x )\n",
    "\n",
    "            plt.subplot( 4, 10, image_number )\n",
    "            plt.imshow( sin2D, origin='lower' )\n",
    "            plt.tick_params(\n",
    "                reset=True, axis='both', which='both',\n",
    "                left=False, right=False, bottom=False, top=False,\n",
    "                labelbottom=False, labelleft=False\n",
    "            )\n",
    "            plt.text(\n",
    "                Cx, Cy, f'({ix-int(Cx)},{iy-int(Cy)})',\n",
    "                color='k', backgroundcolor='w', fontsize=10, ha='center'\n",
    "            );"
   ]
  },
  {
   "cell_type": "markdown",
   "metadata": {},
   "source": [
    "## Try setting to 0 all frequencies outside the selected region\n",
    "\n",
    "Modify the k-space by setting all frequencies outside the selected region to 0:"
   ]
  },
  {
   "cell_type": "code",
   "execution_count": null,
   "metadata": {},
   "outputs": [],
   "source": [
    "# modified k-space\n",
    "kspace_mod = kspace.copy()\n",
    "kspace_mod[frequency_mask==0] = 0. + 1j*0.\n",
    "\n",
    "# visualize\n",
    "fig = plt.figure( figsize=FIG_SIZE )\n",
    "max_val = np.abs(kspace).max() / 5.0 # this division is to improve the contrast\n",
    "plt.imshow(\n",
    "    np.abs(kspace_mod), origin='lower',\n",
    "    cmap='viridis', clim=[0,max_val]\n",
    ")\n",
    "plt.colorbar( shrink=0.75 )\n",
    "plt.tick_params(\n",
    "    reset=True, axis='both', which='both',\n",
    "    left=False, right=False, bottom=False, top=False,\n",
    "    labelbottom=False, labelleft=False\n",
    ")\n",
    "plt.xlabel( '$K_x$', fontsize=FONT_SIZE )\n",
    "plt.ylabel( '$K_y$', fontsize=FONT_SIZE )\n",
    "plt.title(  'Selected area of the k-space', fontsize=FONT_SIZE );"
   ]
  },
  {
   "cell_type": "markdown",
   "metadata": {},
   "source": [
    "## Regenerate the images\n",
    "\n",
    "Now, let's reconstruct the brain image (in spatial coordinates) **only** from the selected portion of frequencies we just selected, i.e. `kspace_less_frequencies`:"
   ]
  },
  {
   "cell_type": "code",
   "execution_count": null,
   "metadata": {},
   "outputs": [],
   "source": [
    "# reconstruct from frequencies in the selected portion\n",
    "kspace_mod_shifted = np.fft.fftshift( kspace_mod )\n",
    "img_mod = np.fft.fft2( kspace_mod_shifted / np.sqrt(Nx*Ny), norm='ortho' )\n",
    "\n",
    "# visualize the original image\n",
    "plt.figure( figsize=FIG_SIZE )\n",
    "plt.subplots_adjust( wspace=0.4 )\n",
    "plt.subplot( 121 )\n",
    "max_val = np.max(np.abs(img)) / 3.0 # this division is to improve contrast\n",
    "plt.imshow(\n",
    "    np.abs(img), origin='lower',\n",
    "    cmap='gray', clim=[0,max_val]\n",
    ")\n",
    "plt.colorbar( shrink=0.65 )\n",
    "plt.tick_params(\n",
    "    reset=True, axis='both', which='both',\n",
    "    left=False, right=False, bottom=False, top=False,\n",
    "    labelbottom=False, labelleft=False\n",
    ")\n",
    "plt.xlabel( 'x pixels', fontsize=FONT_SIZE )\n",
    "plt.ylabel( 'y pixels', fontsize=FONT_SIZE )\n",
    "plt.title(  'From ALL FREQs (magnitude)', fontsize=FONT_SIZE )\n",
    "\n",
    "# visualize the image from fewer frequencies\n",
    "plt.subplot( 122 )\n",
    "max_val = np.max(np.abs(img_mod))\n",
    "plt.imshow(\n",
    "    np.abs(img_mod), origin='lower',\n",
    "    cmap='gray', clim=[0,max_val]\n",
    ")\n",
    "plt.colorbar( shrink=0.65 )\n",
    "plt.tick_params(\n",
    "    reset=True, axis='both', which='both',\n",
    "    left=False, right=False, bottom=False, top=False,\n",
    "    labelbottom=False, labelleft=False\n",
    ")\n",
    "plt.xlabel( 'x pixels', fontsize=FONT_SIZE )\n",
    "plt.ylabel( 'y pixels', fontsize=FONT_SIZE )\n",
    "plt.title(  'From PORTION (magnitude)', fontsize=FONT_SIZE );"
   ]
  },
  {
   "cell_type": "markdown",
   "metadata": {},
   "source": [
    "## Exercises\n",
    "\n",
    "Try changing the portion of frequencies to be considered, in particular:\n",
    "\n",
    "- select a larger area by increasing `Kx_half_side` and `Ky_half_side`\n",
    "- move the box by changing `OFFSETx` and `OFFSETy`\n",
    "- set to zero only the low frequencies\n",
    "- ...\n",
    "\n",
    "and see the effects."
   ]
  },
  {
   "cell_type": "markdown",
   "metadata": {
    "tags": []
   },
   "source": [
    "# Simulate an interference\n",
    "\n",
    "We keep the whole k-space, but we set a point of the k-space to a MUCH MUCH bigger value..."
   ]
  },
  {
   "cell_type": "code",
   "execution_count": null,
   "metadata": {},
   "outputs": [],
   "source": [
    "# offset w.r.t. the center of k-space\n",
    "OFFSETx = -25\n",
    "OFFSETy = 25\n",
    "\n",
    "# amplitude of the interference\n",
    "amplification_factor = 1e5\n",
    "\n",
    "# modified k-space\n",
    "kspace_mod = kspace.copy()\n",
    "kspace_mod[int(Cy)+OFFSETy,int(Cx)+OFFSETx] = amplification_factor * (1. + 1j*1)"
   ]
  },
  {
   "cell_type": "markdown",
   "metadata": {},
   "source": [
    "## Visualize the frequency we are amplifying"
   ]
  },
  {
   "cell_type": "code",
   "execution_count": null,
   "metadata": {
    "tags": []
   },
   "outputs": [],
   "source": [
    "# compute the 2D sinusoid\n",
    "K_x = K_max/2. *(OFFSETx-Cx)/Cx\n",
    "K_y = K_max/2. *(OFFSETy-Cy)/Cy\n",
    "sin2D = calculate_sinusoid( (Ny,Nx), K_max,K_max, K_y,K_x )\n",
    "\n",
    "plt.figure( figsize=FIG_SIZE )\n",
    "plt.subplots_adjust( wspace=0.4 )\n",
    "\n",
    "# visualize the position in k-space\n",
    "plt.subplot( 121 )\n",
    "max_val = np.abs(kspace).max() / 5.0 # this division is to improve the contrast\n",
    "plt.imshow(\n",
    "    np.abs(kspace), origin='lower',\n",
    "    cmap='viridis', clim=[0,max_val]\n",
    ")\n",
    "plt.colorbar( shrink=0.75 )\n",
    "plot_arrows( Cx,Cy,Nx,Ny,'r' )\n",
    "plt.plot( Cx+OFFSETx, Cy+OFFSETy, 'wo', markersize=5 )\n",
    "plt.tick_params(\n",
    "    reset=True, axis='both', which='both',\n",
    "    left=False, right=False, bottom=False, top=False,\n",
    "    labelbottom=False, labelleft=False\n",
    ")\n",
    "plt.xlabel( '$K_x$', fontsize=FONT_SIZE )\n",
    "plt.ylabel( '$K_y$', fontsize=FONT_SIZE )\n",
    "plt.title( 'Selected area of the k-space', fontsize=FONT_SIZE );\n",
    "\n",
    "# plot the corresponding 2D sinusoid\n",
    "plt.subplot( 122 )\n",
    "plt.imshow( sin2D, origin='lower' )\n",
    "plt.tick_params(\n",
    "    reset=True, axis='both', which='both',\n",
    "    left=False, right=False, bottom=False, top=False,\n",
    "    labelbottom=False, labelleft=False\n",
    ")\n",
    "plt.text(\n",
    "    Cx, Cy, f'({OFFSETx},{OFFSETy})',\n",
    "    color='k', backgroundcolor='w', fontsize=FONT_SIZE, ha='center'\n",
    ")\n",
    "plt.title( 'Corresponding sinusoid', fontsize=FONT_SIZE );"
   ]
  },
  {
   "cell_type": "markdown",
   "metadata": {},
   "source": [
    "## Visualize the effect on the image"
   ]
  },
  {
   "cell_type": "code",
   "execution_count": null,
   "metadata": {},
   "outputs": [],
   "source": [
    "# Reconstruct the image from the modified k-space\n",
    "kspace_mod_shifted = np.fft.fftshift( kspace_mod )\n",
    "img_mod = np.fft.fft2( kspace_mod_shifted / np.sqrt(Nx*Ny), norm='ortho' )\n",
    "\n",
    "# Display and compare\n",
    "plt.figure( figsize=FIG_SIZE )\n",
    "plt.subplots_adjust( wspace=0.4 )\n",
    "\n",
    "plt.subplot(121)\n",
    "max_val = np.max(np.abs(img)) / 3.0 # this division is to improve contrast\n",
    "plt.imshow(\n",
    "    np.abs(img), origin='lower',\n",
    "    cmap='gray', clim=[0,max_val]\n",
    ")\n",
    "plt.colorbar( shrink=0.65 )\n",
    "plt.tick_params(\n",
    "    reset=True, axis='both', which='both',\n",
    "    left=False, right=False, bottom=False, top=False,\n",
    "    labelbottom=False, labelleft=False\n",
    ")\n",
    "plt.xlabel( 'x pixels', fontsize=FONT_SIZE )\n",
    "plt.ylabel( 'y pixels', fontsize=FONT_SIZE )\n",
    "plt.title(  'Original image (magnitude)', fontsize=FONT_SIZE )\n",
    "\n",
    "plt.subplot(122)\n",
    "max_val = np.max(np.abs(img_mod)) # uncommment to display within its own intensity range\n",
    "plt.imshow(\n",
    "    np.abs(img_mod), origin='lower',\n",
    "    cmap='gray', clim=[0,max_val]\n",
    ")\n",
    "plt.colorbar( shrink=0.65 )\n",
    "plt.tick_params(\n",
    "    reset=True, axis='both', which='both',\n",
    "    left=False, right=False, bottom=False, top=False,\n",
    "    labelbottom=False, labelleft=False\n",
    ")\n",
    "plt.xlabel( 'x pixels', fontsize=FONT_SIZE )\n",
    "plt.ylabel( 'y pixels', fontsize=FONT_SIZE )\n",
    "plt.title(  'WITH interference (magnitude)', fontsize=FONT_SIZE );"
   ]
  },
  {
   "cell_type": "markdown",
   "metadata": {},
   "source": [
    "## Visualize the difference between the 2 images"
   ]
  },
  {
   "cell_type": "code",
   "execution_count": null,
   "metadata": {},
   "outputs": [],
   "source": [
    "# Compute the actual difference\n",
    "difference = np.abs(img) - np.abs(img_mod)\n",
    "\n",
    "plt.figure( figsize=FIG_SIZE )\n",
    "max_val = np.abs(difference).max()\n",
    "plt.imshow(\n",
    "    difference, origin='lower',\n",
    "    cmap='coolwarm', clim=[-max_val,max_val]\n",
    ")\n",
    "plt.colorbar( shrink=0.65 )\n",
    "plt.tick_params(\n",
    "    reset=True, axis='both', which='both',\n",
    "    left=False, right=False, bottom=False, top=False,\n",
    "    labelbottom=False, labelleft=False\n",
    ")\n",
    "plt.xlabel( 'x pixels', fontsize=FONT_SIZE )\n",
    "plt.ylabel( 'y pixels', fontsize=FONT_SIZE )\n",
    "plt.title(  'Difference', fontsize=FONT_SIZE );"
   ]
  },
  {
   "cell_type": "markdown",
   "metadata": {},
   "source": [
    "## Exercise\n",
    "\n",
    "Try changing some parameters, e.g. `OFFSETx`, `OFFSETy` and `amplification_factor`, and see the effects."
   ]
  }
 ],
 "metadata": {
  "kernelspec": {
   "display_name": "Python 3 (ipykernel)",
   "language": "python",
   "name": "python3"
  },
  "language_info": {
   "codemirror_mode": {
    "name": "ipython",
    "version": 3
   },
   "file_extension": ".py",
   "mimetype": "text/x-python",
   "name": "python",
   "nbconvert_exporter": "python",
   "pygments_lexer": "ipython3",
   "version": "3.12.2"
  },
  "toc-autonumbering": true,
  "toc-showcode": false,
  "toc-showmarkdowntxt": false,
  "toc-showtags": false
 },
 "nbformat": 4,
 "nbformat_minor": 4
}
